{
 "cells": [
  {
   "cell_type": "code",
   "execution_count": 3,
   "metadata": {},
   "outputs": [],
   "source": [
    "file = open('C:\\Lab\\pokemon.csv').readlines()"
   ]
  },
  {
   "cell_type": "code",
   "execution_count": 20,
   "metadata": {},
   "outputs": [],
   "source": [
    "pokeman = file[1:]"
   ]
  },
  {
   "cell_type": "code",
   "execution_count": 51,
   "metadata": {},
   "outputs": [],
   "source": [
    "pokeman_type = list(map(lambda x: x.split(',')[1].strip(), pokeman))"
   ]
  },
  {
   "cell_type": "code",
   "execution_count": 50,
   "metadata": {},
   "outputs": [
    {
     "data": {
      "text/plain": [
       "[('Water', 105),\n",
       " ('Normal', 93),\n",
       " ('Grass', 65),\n",
       " ('Bug', 63),\n",
       " ('Fire', 47),\n",
       " ('Psychic', 47),\n",
       " ('Rock', 41),\n",
       " ('Electric', 36),\n",
       " ('Ground', 30),\n",
       " ('Poison', 28),\n",
       " ('Dark', 28),\n",
       " ('Fighting', 25),\n",
       " ('Dragon', 24),\n",
       " ('Ghost', 23),\n",
       " ('Ice', 23),\n",
       " ('Steel', 22),\n",
       " ('Fairy', 17),\n",
       " ('Flying', 3)]"
      ]
     },
     "execution_count": 50,
     "metadata": {},
     "output_type": "execute_result"
    }
   ],
   "source": [
    "def countWords(A):\n",
    "   dic={}\n",
    "   for x in A:\n",
    "       if not x in dic:        #Python 2.7: if not dic.has_key(x):\n",
    "          dic[x] = A.count(x)\n",
    "   return dic\n",
    "\n",
    "dic = countWords(pokeman_type)\n",
    "sorted(dic.items(), key=lambda x: x[1], reverse=True)"
   ]
  }
 ],
 "metadata": {
  "kernelspec": {
   "display_name": "Python 3",
   "language": "python",
   "name": "python3"
  },
  "language_info": {
   "codemirror_mode": {
    "name": "ipython",
    "version": 3
   },
   "file_extension": ".py",
   "mimetype": "text/x-python",
   "name": "python",
   "nbconvert_exporter": "python",
   "pygments_lexer": "ipython3",
   "version": "3.7.6"
  }
 },
 "nbformat": 4,
 "nbformat_minor": 4
}
